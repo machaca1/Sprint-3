{
 "cells": [
  {
   "cell_type": "code",
   "execution_count": 1,
   "id": "c7a069f3",
   "metadata": {},
   "outputs": [
    {
     "ename": "SyntaxError",
     "evalue": "invalid syntax (2913178274.py, line 18)",
     "output_type": "error",
     "traceback": [
      "\u001b[1;36m  File \u001b[1;32m\"C:\\Users\\canasman\\AppData\\Local\\Temp\\ipykernel_3608\\2913178274.py\"\u001b[1;36m, line \u001b[1;32m18\u001b[0m\n\u001b[1;33m    return r\u001b[0m\n\u001b[1;37m    ^\u001b[0m\n\u001b[1;31mSyntaxError\u001b[0m\u001b[1;31m:\u001b[0m invalid syntax\n"
     ]
    }
   ],
   "source": [
    "#Exercici 4\n",
    "print('Exercici 4')\n",
    "\n",
    "import numpy as np\n",
    "\n",
    "def coe_corr(array):\n",
    "    sumac = np.sum(array,axis=0)\n",
    "    tam = len(array)\n",
    "    medias = sumac/tam\n",
    "    xmed=medias[0]\n",
    "    ymed=medias[1]\n",
    "    r=0\n",
    "    for i in range(0,tam):\n",
    "        xi=array[i,0]\n",
    "        yi=array[i,1]\n",
    "        r=r+((xi-xmed)*(yi-ymed))/((((xi-xmed)**2)**(0.5))*(((yi-ymed)**2**(0.5)))\n",
    "    \n",
    "    return r\n",
    "    \n",
    "       \n",
    "        \n",
    "    \n",
    "a=np.random.randint(20,50)\n",
    "matriz=np.random.randint(0,101,(a,2))\n",
    "coe_corr(matriz)\n",
    "print (r)    "
   ]
  }
 ],
 "metadata": {
  "kernelspec": {
   "display_name": "Python 3 (ipykernel)",
   "language": "python",
   "name": "python3"
  },
  "language_info": {
   "codemirror_mode": {
    "name": "ipython",
    "version": 3
   },
   "file_extension": ".py",
   "mimetype": "text/x-python",
   "name": "python",
   "nbconvert_exporter": "python",
   "pygments_lexer": "ipython3",
   "version": "3.9.13"
  }
 },
 "nbformat": 4,
 "nbformat_minor": 5
}
