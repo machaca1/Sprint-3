{
 "cells": [
  {
   "cell_type": "code",
   "execution_count": 12,
   "id": "1d860655",
   "metadata": {},
   "outputs": [
    {
     "name": "stdout",
     "output_type": "stream",
     "text": [
      "Exercici 2\n",
      "Introduce el número de filas y columnas #7\n",
      "[[56 37 51 51  5 99 99]\n",
      " [99 51 51 88 89 90 94]\n",
      " [46 73  9 21 18 66 41]\n",
      " [22 70 87  4 74  4  5]\n",
      " [ 7  5 61  9 25 77 56]\n",
      " [89 91 33 95 62 80 68]\n",
      " [30 77 90 65 28 66  1]]\n"
     ]
    }
   ],
   "source": [
    "#Exercici 2\n",
    "print('Exercici 2')\n",
    "\n",
    "import numpy as np\n",
    "\n",
    "def random_array():\n",
    "        a=int(input('Introduce el número de filas y columnas #'))            \n",
    "        array=np.random.randint(0,101,(a,a))\n",
    "        print (array)\n",
    "            \n",
    "random_array()            \n",
    "        "
   ]
  }
 ],
 "metadata": {
  "kernelspec": {
   "display_name": "Python 3 (ipykernel)",
   "language": "python",
   "name": "python3"
  },
  "language_info": {
   "codemirror_mode": {
    "name": "ipython",
    "version": 3
   },
   "file_extension": ".py",
   "mimetype": "text/x-python",
   "name": "python",
   "nbconvert_exporter": "python",
   "pygments_lexer": "ipython3",
   "version": "3.9.13"
  }
 },
 "nbformat": 4,
 "nbformat_minor": 5
}
