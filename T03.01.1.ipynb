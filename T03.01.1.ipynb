{
 "cells": [
  {
   "cell_type": "code",
   "execution_count": 24,
   "id": "1d5b0e88",
   "metadata": {},
   "outputs": [
    {
     "name": "stdout",
     "output_type": "stream",
     "text": [
      "Exercici 1\n",
      "Array: [1 2 3]\n",
      "Filas y columnas: (3,)\n",
      "Tamaño: 3\n",
      "Dimensiones 1\n",
      "Numero de elementos: 3\n",
      "Tipo de datos: int32\n"
     ]
    }
   ],
   "source": [
    "#Exercici 1\n",
    "print('Exercici 1')\n",
    "\n",
    "import numpy as np\n",
    "\n",
    "def array_stats(vector):\n",
    "\n",
    "    dim = vector.ndim\n",
    "    if dim>1 :\n",
    "        print('Error, el array introducido tiene mas de una dimension')\n",
    "    else:\n",
    "        print('Array:', vector)\n",
    "        print('Filas y columnas:', vector.shape)\n",
    "        print('Tamaño:', len(vector))\n",
    "        print('Dimensiones', vector.ndim)\n",
    "        print('Numero de elementos:', vector.size)\n",
    "        print('Tipo de datos:', vector.dtype)\n",
    "        \n",
    "    \n",
    "a=np.array([1,2,3])\n",
    "array_stats(a)\n"
   ]
  }
 ],
 "metadata": {
  "kernelspec": {
   "display_name": "Python 3 (ipykernel)",
   "language": "python",
   "name": "python3"
  },
  "language_info": {
   "codemirror_mode": {
    "name": "ipython",
    "version": 3
   },
   "file_extension": ".py",
   "mimetype": "text/x-python",
   "name": "python",
   "nbconvert_exporter": "python",
   "pygments_lexer": "ipython3",
   "version": "3.9.13"
  }
 },
 "nbformat": 4,
 "nbformat_minor": 5
}
