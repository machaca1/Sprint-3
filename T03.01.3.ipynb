{
 "cells": [
  {
   "cell_type": "code",
   "execution_count": 3,
   "id": "6d8af829",
   "metadata": {},
   "outputs": [
    {
     "name": "stdout",
     "output_type": "stream",
     "text": [
      "Exercici 3\n",
      "Introduce el número de filas y columnas #3\n",
      "[[23 91  4]\n",
      " [94 35 45]\n",
      " [79 19 56]]\n",
      "La suma de los valores por columna es [196 145 105]\n",
      "La suma de los valores por fila es [118 174 154]\n"
     ]
    }
   ],
   "source": [
    "#Exercici 3\n",
    "print('Exercici 3')\n",
    "\n",
    "import numpy as np\n",
    "\n",
    "def random_array():\n",
    "        a=int(input('Introduce el número de filas y columnas #'))            \n",
    "        array=np.random.randint(0,101,(a,a))\n",
    "        return array\n",
    "            \n",
    "arr=(random_array())\n",
    "print(arr)\n",
    "\n",
    "sumac = np.sum(arr,axis=0)\n",
    "print ('La suma de los valores por columna es',sumac)\n",
    "sumaf = np.sum(arr,axis=1)\n",
    "print ('La suma de los valores por fila es',sumaf)"
   ]
  }
 ],
 "metadata": {
  "kernelspec": {
   "display_name": "Python 3 (ipykernel)",
   "language": "python",
   "name": "python3"
  },
  "language_info": {
   "codemirror_mode": {
    "name": "ipython",
    "version": 3
   },
   "file_extension": ".py",
   "mimetype": "text/x-python",
   "name": "python",
   "nbconvert_exporter": "python",
   "pygments_lexer": "ipython3",
   "version": "3.9.13"
  }
 },
 "nbformat": 4,
 "nbformat_minor": 5
}
